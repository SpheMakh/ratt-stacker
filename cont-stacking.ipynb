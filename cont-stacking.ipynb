{
 "metadata": {
  "name": ""
 },
 "nbformat": 3,
 "nbformat_minor": 0,
 "worksheets": [
  {
   "cells": [
    {
     "cell_type": "markdown",
     "metadata": {},
     "source": [
      "# SKA-Africa: Young Profesionals Development Programme \n",
      "## Cape Town, South Africa, July 2015\n",
      "\n",
      "\n",
      "# Continuum Stacking\n",
      "\n",
      "In some cases, the signal from radio galaxies is  intrinsically very faint and cannot be directly detected within a reasonable amount of observing time. In these cases, the signal has to be detected using indirect techniques. One such technique is stacking. In stacking, galaxies in the  field being observed are identified in catalogs at other wavelengths (e.g., optical catalogs), the regions around the galaxies are then co-added (stacked). The result is an average signal of the stacked galaxies.\n",
      "\n",
      "\n",
      "We will perfom a continuum stacking experiment with simulated MeerKAT data. The goal of the experiment is to quantify how well we can measure the average brightness in a given set of stacking positions/diretcions.\n",
      "\n",
      "We will use point source catalogs from the *SKA Simulated Skies* [(S-cubed)](http://s-cubed.physics.ox.ac.uk/s3_sex) simulation.\n",
      "\n",
      "\n",
      "## Task 1: Accessing information in the catalog\n",
      "We will be suing the *tigger* tool to access and manipulate the catalogs. Below is crash course on *tigger*"
     ]
    },
    {
     "cell_type": "code",
     "collapsed": false,
     "input": [
      "import Tigger\n",
      "catalogname = \"catalog.lsm.html\"\n",
      "# Load catlog using Tigger\n",
      "catalog = Tigger.load(catalogname)\n"
     ],
     "language": "python",
     "metadata": {},
     "outputs": [
      {
       "output_type": "stream",
       "stream": "stdout",
       "text": [
        "Loading catalog.lsm.html: Tigger sky model\n"
       ]
      }
     ],
     "prompt_number": 4
    },
    {
     "cell_type": "markdown",
     "metadata": {},
     "source": [
      "We have loaded the catalog into *tigger*. We can now get access to the sources in the catalog. This is done by simply running `catalog.sources`; check out other atributes/functions by running `catalog.<Tab>`"
     ]
    },
    {
     "cell_type": "code",
     "collapsed": false,
     "input": [
      "sources = catalog.sources\n",
      "nsrc = len(sources)\n",
      "nsrc"
     ],
     "language": "python",
     "metadata": {},
     "outputs": [
      {
       "metadata": {},
       "output_type": "pyout",
       "prompt_number": 6,
       "text": [
        "3806"
       ]
      }
     ],
     "prompt_number": 6
    },
    {
     "cell_type": "markdown",
     "metadata": {},
     "source": [
      "`sources` now contains a list of all the sources in our catalog along (3806 sources) with their atributes (flux, position, etc.). Now lets inspect one of these sources"
     ]
    },
    {
     "cell_type": "code",
     "collapsed": false,
     "input": [
      "src = sources[0]\n",
      "print \"Source name: %s\"%src.name\n",
      "print \"Source brightness: %.3g mJy\"%(src.flux.I*1e3)\n",
      "print \"Source position (ra,dec) : %.4g,%.4g Deg\"%(numpy.rad2deg(src.pos.ra), numpy.rad2deg(src.pos.dec))"
     ],
     "language": "python",
     "metadata": {},
     "outputs": [
      {
       "output_type": "stream",
       "stream": "stdout",
       "text": [
        "Source name: fi162c\n",
        "Source brightness: 0.01 mJy\n",
        "Source position (ra,dec) : 0.2014,-30.36 Deg\n"
       ]
      }
     ],
     "prompt_number": 13
    },
    {
     "cell_type": "markdown",
     "metadata": {},
     "source": [
      "Note that the source position is in radians. In fact, assume SI unless explicitly told otherwise. "
     ]
    },
    {
     "cell_type": "markdown",
     "metadata": {},
     "source": [
      "### Exercise 1\n",
      "\n",
      "a. Write a function that takes in a catalog and returns two a list of ra,dec positions for all the sources in the catalog.  \n",
      "b. Write a function that takes in a catalog and returns the total brightness of the catalog  \n",
      "\n",
      "You can write a single function that returns both the positions and the total brightness."
     ]
    },
    {
     "cell_type": "markdown",
     "metadata": {},
     "source": [
      "## Task 2: Accessing and Manipulating FITS images\n",
      "We will use the *pyfits* tool to access FITS files. (for a thorough review of *pyfits* see https://pythonhosted.org/pyfits/users_guide/users_tutorial.html) "
     ]
    },
    {
     "cell_type": "code",
     "collapsed": false,
     "input": [
      "import pyfits\n",
      "imagename = \"stack01.fits\"\n",
      "# get primary HDU\n",
      "phdu = pyfits.open(imagename)[0]\n",
      "# Now lets get the data\n",
      "data = phdu.data\n",
      "# Then we get the FITS header\n",
      "hdr = phdu.header"
     ],
     "language": "python",
     "metadata": {},
     "outputs": [],
     "prompt_number": 21
    },
    {
     "cell_type": "markdown",
     "metadata": {},
     "source": [
      "FITS headers consist of a list of 80 byte \u201ccards\u201d, where a card contains a keyword, a value, and a comment. The keyword and comment must both be strings, whereas the value can be a string or an integer, floating point number, complex number, or True/False.\n",
      "\n",
      "These are the first 10 keywords in our FITS image. For info on these keywords see http://heasarc.gsfc.nasa.gov/docs/fcg/standard_dict.html"
     ]
    },
    {
     "cell_type": "code",
     "collapsed": false,
     "input": [
      "hdr.keys()[:10]"
     ],
     "language": "python",
     "metadata": {},
     "outputs": [
      {
       "metadata": {},
       "output_type": "pyout",
       "prompt_number": 22,
       "text": [
        "['SIMPLE',\n",
        " 'BITPIX',\n",
        " 'NAXIS',\n",
        " 'NAXIS1',\n",
        " 'NAXIS2',\n",
        " 'NAXIS3',\n",
        " 'NAXIS4',\n",
        " 'BSCALE',\n",
        " 'BZERO',\n",
        " 'BTYPE']"
       ]
      }
     ],
     "prompt_number": 22
    },
    {
     "cell_type": "markdown",
     "metadata": {},
     "source": [
      "**Note:** When loading data from a FITS imge using *pyfits* the data structure will be in the reverse order compared to how it appeares in the FITS header. That is, NAXIS1 will be the last dimension, and NAXIS`<last>` will be the fisrt. For example, the FITS images we will be using have four dimensions. These are NAXIS1, NAXIS2, NAXIS3, NAXIS4 `->` RA(X), DEC(Y), STOKES, FREQ. Therefore when loaded fom pyfits, the structure will be: FREQ, STOKES, DEC, RA. We are only interested in the RA,DEC axes so will ignore the fisrt two axes (or only take the last axes). "
     ]
    },
    {
     "cell_type": "code",
     "collapsed": false,
     "input": [
      "data.shape"
     ],
     "language": "python",
     "metadata": {},
     "outputs": [
      {
       "metadata": {},
       "output_type": "pyout",
       "prompt_number": 23,
       "text": [
        "(1, 1, 2048, 2048)"
       ]
      }
     ],
     "prompt_number": 23
    },
    {
     "cell_type": "code",
     "collapsed": false,
     "input": [
      "xydata = data[0,0,...]\n",
      "xydata.shape"
     ],
     "language": "python",
     "metadata": {},
     "outputs": [
      {
       "metadata": {},
       "output_type": "pyout",
       "prompt_number": 24,
       "text": [
        "(2048, 2048)"
       ]
      }
     ],
     "prompt_number": 24
    },
    {
     "cell_type": "markdown",
     "metadata": {},
     "source": [
      "Another important aspect about working with astronomy FITS images is determinig the sky coordinate (RA,DEC) asociated with a given pixel location in a celestial image. To do this we use the [WCS conventions](http://fits.gsfc.nasa.gov/fits_wcs.html).\n",
      " "
     ]
    },
    {
     "cell_type": "markdown",
     "metadata": {},
     "source": [
      "from astLib.astWCS import WCS\n",
      "\n",
      "wcs = WCS(hdr, mode=\"pyfits\")\n"
     ]
    },
    {
     "cell_type": "markdown",
     "metadata": {},
     "source": [
      "`wcs` is an instance of the WCS coordinate system of our fits image. We can now use it to assocaiate RA,DEC positions to pixel coordinate. For example, the pixel coordinate corrspondinf to (RA,DEC) = (0,-30) Deg is"
     ]
    },
    {
     "cell_type": "code",
     "collapsed": false,
     "input": [
      "wcs.wcs2pix(0,-30)"
     ],
     "language": "python",
     "metadata": {},
     "outputs": [
      {
       "metadata": {},
       "output_type": "pyout",
       "prompt_number": 27,
       "text": [
        "[1024.0, 1024.0]"
       ]
      }
     ],
     "prompt_number": 27
    },
    {
     "cell_type": "markdown",
     "metadata": {},
     "source": [
      "### Exercise 2\n",
      "Write a function that takes in a RA,DEC position, a 2D image array, and a FITS header ascociated to the image array and returns a square subset of the 2D array centred on RA,DEC."
     ]
    },
    {
     "cell_type": "markdown",
     "metadata": {},
     "source": [
      "## Task 3: Continuum Stacking\n",
      "Finaly, lets do some stacking!\n",
      "\n",
      "### Exercise 3\n",
      "Write a function that takes in a FITS image and a catalog, then stacks in NxN pixel regions centred on the source positions in the catalog. Return the stacked NxN array, and the total brightness in the catalog (Take the stacked brightness as the maximum pixel in the stacked image). \n"
     ]
    },
    {
     "cell_type": "markdown",
     "metadata": {},
     "source": [
      "### Exercise 4"
     ]
    },
    {
     "cell_type": "markdown",
     "metadata": {},
     "source": [
      "a. Write a function that takes in a set of FITS images and correspoding catalogs. Plot the input catlog brightness VS the stacked brightness.   \n",
      "b. What can you conclude from this plot?"
     ]
    }
   ],
   "metadata": {}
  }
 ]
}